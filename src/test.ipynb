{
 "cells": [
  {
   "cell_type": "code",
   "execution_count": 1,
   "metadata": {},
   "outputs": [],
   "source": [
    "import numpy as np\n",
    "import pandas as pd\n",
    "import sklearn\n",
    "from sklearn.datasets import fetch_openml\n",
    "from sklearn.preprocessing import MinMaxScaler\n",
    "\n",
    "sklearn.set_config(transform_output=\"pandas\")\n",
    "\n",
    "X, y = fetch_openml(\"mnist_784\", return_X_y=True, as_frame=True)\n",
    "scaler = MinMaxScaler()\n",
    "X = scaler.fit_transform(X)  # type: ignore\n"
   ]
  },
  {
   "cell_type": "code",
   "execution_count": 123,
   "metadata": {},
   "outputs": [],
   "source": [
    "from typing import Any\n",
    "\n",
    "\n",
    "def get_sample(\n",
    "    X: pd.DataFrame, y: pd.Series, size: int, *, seed: Any = None\n",
    ") -> tuple[pd.DataFrame, pd.Series]:\n",
    "    \n",
    "    X_sample = X.sample(size, random_state=seed)\n",
    "    y_sample = y[X_sample.index]\n",
    "    X_sample.reset_index(drop=True, inplace=True)\n",
    "    y_sample.reset_index(drop=True, inplace=True)\n",
    "    return X_sample, y_sample\n",
    "\n",
    "size = 256\n",
    "X_sample, y_sample = get_sample(X, y, size, seed=42)\n"
   ]
  },
  {
   "cell_type": "code",
   "execution_count": 124,
   "metadata": {},
   "outputs": [
    {
     "data": {
      "text/plain": [
       "(5, [17, 27, 38, 56, 60])"
      ]
     },
     "execution_count": 124,
     "metadata": {},
     "output_type": "execute_result"
    }
   ],
   "source": [
    "def get_source_targets(\n",
    "    X: pd.DataFrame, y: pd.Series, source: str, target: str\n",
    ") -> tuple[int, list[int]]:\n",
    "    s = X[y == source].index[0]\n",
    "    t = X[y == target].index.tolist()\n",
    "    return s, t\n",
    "\n",
    "\n",
    "s, ts = get_source_targets(X_sample, y_sample, \"0\", \"1\")\n",
    "s, ts[:5]\n"
   ]
  },
  {
   "cell_type": "code",
   "execution_count": 125,
   "metadata": {},
   "outputs": [
    {
     "data": {
      "text/plain": [
       "[(0.889246619446233, 12.383230217475273)]"
      ]
     },
     "execution_count": 125,
     "metadata": {},
     "output_type": "execute_result"
    }
   ],
   "source": [
    "def cost_fn(df: pd.DataFrame, i: int, j: int) -> list[tuple[float, float]]:\n",
    "    a = df.iloc[i]\n",
    "    b = df.iloc[j]\n",
    "\n",
    "    x = np.subtract(a, b)\n",
    "    l2 = np.linalg.norm(x, 2, 0)\n",
    "\n",
    "    x = np.abs(x, x)\n",
    "    sum_of_diff = x.sum()\n",
    "\n",
    "    x = np.maximum.reduce((a, b), out=x)\n",
    "    sum_of_max = x.sum()\n",
    "\n",
    "    l1 = sum_of_diff / sum_of_max\n",
    "\n",
    "    return [(l1, l2)]  # type: ignore\n",
    "\n",
    "\n",
    "cost_fn(X_sample, s, ts[0])\n"
   ]
  },
  {
   "cell_type": "code",
   "execution_count": 126,
   "metadata": {},
   "outputs": [
    {
     "data": {
      "image/png": "[encoded data removed]",
      "text/plain": [
       "<Figure size 640x480 with 6 Axes>"
      ]
     },
     "metadata": {},
     "output_type": "display_data"
    }
   ],
   "source": [
    "from matplotlib import pyplot as plt\n",
    "\n",
    "\n",
    "def plot_images(df, indices: list[int]):\n",
    "    fig, axes = plt.subplots(\n",
    "        1,\n",
    "        len(indices),\n",
    "        subplot_kw={\"xticks\": [], \"yticks\": []},\n",
    "        layout=\"tight\",\n",
    "        squeeze=False,\n",
    "    )\n",
    "    axes = axes[0]\n",
    "    for ax, i in zip(axes, indices):\n",
    "        ax.imshow(df.iloc[i].to_numpy().reshape(28, 28), cmap=\"gray\")\n",
    "\n",
    "\n",
    "plot_images(X_sample, [s] + ts[:5])\n"
   ]
  },
  {
   "cell_type": "code",
   "execution_count": 127,
   "metadata": {},
   "outputs": [],
   "source": [
    "from algo import recourse\n",
    "from functools import partial\n",
    "\n",
    "graph, dist = recourse(\n",
    "    X_sample, y_sample, 8, s, ts, partial(cost_fn, X_sample), limit=16\n",
    ")\n"
   ]
  },
  {
   "cell_type": "code",
   "execution_count": 128,
   "metadata": {},
   "outputs": [
    {
     "data": {
      "text/plain": [
       "[[151, 241, 32, 73, 5], [151, 241, 32, 99, 5], [17, 222, 131, 185, 5]]"
      ]
     },
     "execution_count": 128,
     "metadata": {},
     "output_type": "execute_result"
    }
   ],
   "source": [
    "from algo import backtracking\n",
    "\n",
    "\n",
    "paths = backtracking(graph, dist, s, size)\n",
    "paths\n"
   ]
  },
  {
   "cell_type": "code",
   "execution_count": 129,
   "metadata": {},
   "outputs": [
    {
     "data": {
      "image/png": "[encoded data removed]",
      "text/plain": [
       "<Figure size 640x480 with 5 Axes>"
      ]
     },
     "metadata": {},
     "output_type": "display_data"
    },
    {
     "data": {
      "image/png": "[encoded data removed]",
      "text/plain": [
       "<Figure size 640x480 with 5 Axes>"
      ]
     },
     "metadata": {},
     "output_type": "display_data"
    },
    {
     "data": {
      "image/png": "[encoded data removed]",
      "text/plain": [
       "<Figure size 640x480 with 5 Axes>"
      ]
     },
     "metadata": {},
     "output_type": "display_data"
    }
   ],
   "source": [
    "for path in paths:\n",
    "    plot_images(X_sample, path)\n"
   ]
  }
 ],
 "metadata": {
  "kernelspec": {
   "display_name": "Python 3",
   "language": "python",
   "name": "python3"
  },
  "language_info": {
   "codemirror_mode": {
    "name": "ipython",
    "version": 3
   },
   "file_extension": ".py",
   "mimetype": "text/x-python",
   "name": "python",
   "nbconvert_exporter": "python",
   "pygments_lexer": "ipython3",
   "version": "3.12.1"
  }
 },
 "nbformat": 4,
 "nbformat_minor": 2
}
